{
 "cells": [
  {
   "cell_type": "code",
   "execution_count": 1,
   "metadata": {
    "collapsed": true
   },
   "outputs": [],
   "source": [
    "# Importing Modules\n",
    "import numpy as np\n",
    "import matplotlib.pyplot as plt\n",
    "import pandas as pd\n",
    "import random\n",
    "%matplotlib inline"
   ]
  },
  {
   "cell_type": "code",
   "execution_count": 2,
   "metadata": {
    "collapsed": false
   },
   "outputs": [
    {
     "data": {
      "image/png": "[encoded data removed]",
      "text/plain": [
       "<matplotlib.figure.Figure at 0x841b0f0>"
      ]
     },
     "metadata": {},
     "output_type": "display_data"
    }
   ],
   "source": [
    "#Step 1: Visualizing an Example using the Test Data\n",
    "\n",
    "# Importing the MNIST Database from a CSV file\n",
    "dataset = pd.read_csv('mnist_test.csv', header = None)\n",
    "\n",
    "# 1st column is labels\n",
    "labels = dataset[0]\n",
    "\n",
    "# Other columns are pixels\n",
    "pixels = dataset.drop([0], axis=1)\n",
    "\n",
    "#isolates the example to use\n",
    "location = 28\n",
    "row = pixels.iloc[location]\n",
    "label = labels.iloc[location]\n",
    "\n",
    "# Reshape from 784x1 array to 28x28\n",
    "one_example = np.array(row).reshape(28,28)\n",
    "\n",
    "#Visualize the notated example\n",
    "plt.title('Label is {label}'.format(label=label))\n",
    "plt.imshow(one_example, cmap='gray')\n",
    "plt.show()"
   ]
  },
  {
   "cell_type": "code",
   "execution_count": 11,
   "metadata": {
    "collapsed": false
   },
   "outputs": [],
   "source": [
    "class Network(object):\n",
    "    \n",
    "    #Initialize size of network, beginning biases and weights (all dependent on size of network)\n",
    "    #Creates weights for 1st and 2nd layers\n",
    "    #Creates bias for 2nd and 3rd layers\n",
    "    def __init__ (self, sizes):\n",
    "        self.num_layers = len(sizes)\n",
    "        self.sizes = sizes\n",
    "        self.biases = [np.random.randn(y,1) for y in sizes[1:]]\n",
    "        self.weights = [np.random.randn(x,y) for x,y in zip(sizes[:-1], sizes[1:])] \n",
    "        \n",
    "    \n",
    "    # Creates the activation function for 2nd layer\n",
    "    # Will return a length of (2nd layer x 1) array multiplying inputs x weights with the sigmoid function\n",
    "    # a.k.a. forward propagation\n",
    "    def feedforward(self, a):\n",
    "        for b, w in zip(self.biases, self.weights):\n",
    "            a = sigmoid(np.dot(a,w)+b)\n",
    "        return a\n",
    "    \n",
    "    def SGD(self, training_data, epochs, mini_batch_size, eta, test_data=None):\n",
    "        if test_data: n_test = len(test_data)\n",
    "        n = len(training_data)    "
   ]
  },
  {
   "cell_type": "code",
   "execution_count": null,
   "metadata": {
    "collapsed": true
   },
   "outputs": [],
   "source": []
  },
  {
   "cell_type": "code",
   "execution_count": 1,
   "metadata": {
    "collapsed": false
   },
   "outputs": [],
   "source": [
    "#Misc Functions\n",
    "def sigmoid(z):\n",
    "    return 1.0/(1.0+np.exp(-z))\n"
   ]
  },
  {
   "cell_type": "code",
   "execution_count": 5,
   "metadata": {
    "collapsed": true
   },
   "outputs": [],
   "source": [
    "# Loading the MNIST Data\n",
    "import cPickle\n",
    "import gzip"
   ]
  },
  {
   "cell_type": "code",
   "execution_count": 6,
   "metadata": {
    "collapsed": true
   },
   "outputs": [],
   "source": [
    "def load_data():\n",
    "    f = gzip.open('mnist.pkl.gz', 'rb')\n",
    "    training_data, validation_data, test_data = cPickle.load(f)\n",
    "    f.close()\n",
    "    return (training_data, validation_data, test_data)\n"
   ]
  },
  {
   "cell_type": "code",
   "execution_count": 9,
   "metadata": {
    "collapsed": true
   },
   "outputs": [],
   "source": [
    "#Reshapes new variable names into 784x1 array for x and uses the vectorized output results for y.\n",
    "\n",
    "def load_data_wrapper():\n",
    "    tr_d, va_d, te_d = load_data()\n",
    "    \n",
    "    training_inputs = [np.reshape(x, (781,1)) for x in tr_d[0]] #really useful trick to know\n",
    "    training_results = [vectorized_result(y) for y in tr_d[1]]\n",
    "    training_data = zip(training_inputs, training_results) # creates a list of: 1st the 784x1 array 2nd the result for each iteration.\n",
    "    \n",
    "    validation_inputs = [np.reshape(x, (781,1)) for x in va_d[0]]\n",
    "    validation_data = [vectorized_result(y) for y in va_d[1]]\n",
    "    \n",
    "    test_inputs = [np.reshape(x, (781,1)) for x in te_d[0]]\n",
    "    test_data = [vectorized_result(y) for y in te_d[1]]\n",
    "    return(training_data, validation_data, test_data)\n"
   ]
  },
  {
   "cell_type": "code",
   "execution_count": 4,
   "metadata": {
    "collapsed": true
   },
   "outputs": [],
   "source": [
    "# creates a vectorized array of outputs. Outputs will coorespond with a '1' in the appropriate position and '0' elsewhere\n",
    "\n",
    "def vectorized_result(j):\n",
    "    e = np.zeros((10,1))\n",
    "    e[j] = 1.0\n",
    "    return e"
   ]
  },
  {
   "cell_type": "code",
   "execution_count": 10,
   "metadata": {
    "collapsed": false
   },
   "outputs": [
    {
     "data": {
      "text/plain": [
       "array([[ 0.],\n",
       "       [ 0.],\n",
       "       [ 1.],\n",
       "       [ 0.],\n",
       "       [ 0.],\n",
       "       [ 0.],\n",
       "       [ 0.],\n",
       "       [ 0.],\n",
       "       [ 0.],\n",
       "       [ 0.]])"
      ]
     },
     "execution_count": 10,
     "metadata": {},
     "output_type": "execute_result"
    }
   ],
   "source": [
    "vectorized_result(2)"
   ]
  },
  {
   "cell_type": "code",
   "execution_count": null,
   "metadata": {
    "collapsed": true
   },
   "outputs": [],
   "source": []
  },
  {
   "cell_type": "code",
   "execution_count": 4,
   "metadata": {
    "collapsed": false
   },
   "outputs": [
    {
     "data": {
      "text/plain": [
       "1.0"
      ]
     },
     "execution_count": 4,
     "metadata": {},
     "output_type": "execute_result"
    }
   ],
   "source": [
    "sigmoid(5000)"
   ]
  },
  {
   "cell_type": "code",
   "execution_count": null,
   "metadata": {
    "collapsed": true
   },
   "outputs": [],
   "source": []
  },
  {
   "cell_type": "code",
   "execution_count": null,
   "metadata": {
    "collapsed": true
   },
   "outputs": [],
   "source": []
  },
  {
   "cell_type": "code",
   "execution_count": null,
   "metadata": {
    "collapsed": true
   },
   "outputs": [],
   "source": []
  },
  {
   "cell_type": "code",
   "execution_count": 5,
   "metadata": {
    "collapsed": false
   },
   "outputs": [
    {
     "ename": "SyntaxError",
     "evalue": "invalid syntax (<ipython-input-5-bb722cf35889>, line 4)",
     "output_type": "error",
     "traceback": [
      "\u001b[1;36m  File \u001b[1;32m\"<ipython-input-5-bb722cf35889>\"\u001b[1;36m, line \u001b[1;32m4\u001b[0m\n\u001b[1;33m    biases =\u001b[0m\n\u001b[1;37m             ^\u001b[0m\n\u001b[1;31mSyntaxError\u001b[0m\u001b[1;31m:\u001b[0m invalid syntax\n"
     ]
    }
   ],
   "source": [
    "#Testing space\n",
    "def testing (sizes):\n",
    "    numLayers = len(sizes)\n",
    "    biases = \n",
    "    return numLayers\n",
    "\n",
    "testing([2,3,1])"
   ]
  },
  {
   "cell_type": "code",
   "execution_count": null,
   "metadata": {
    "collapsed": true
   },
   "outputs": [],
   "source": []
  },
  {
   "cell_type": "code",
   "execution_count": 6,
   "metadata": {
    "collapsed": false
   },
   "outputs": [
    {
     "name": "stdout",
     "output_type": "stream",
     "text": [
      "[array([[ 0.51433828],\n",
      "       [-0.60967051],\n",
      "       [ 0.16083203]]), array([[-1.32134451]])]\n",
      "[array([[-1.0614603 , -1.30288833, -2.31716735],\n",
      "       [-2.15473332, -0.62947719,  0.08329795]]), array([[-0.28202827],\n",
      "       [ 1.48411761],\n",
      "       [ 0.61510235]])]\n"
     ]
    }
   ],
   "source": [
    "size = ([2,3,1])\n",
    "xbias = [np.random.randn(y,1) for y in size[1:]]\n",
    "xweights =   [np.random.randn(x,y) for x,y in zip(size[:-1], size[1:])]  \n",
    "print xbias\n",
    "print xweights    \n",
    "#xbias = np.random.randn(2,1)\n",
    "#xbias"
   ]
  },
  {
   "cell_type": "code",
   "execution_count": 46,
   "metadata": {
    "collapsed": false
   },
   "outputs": [
    {
     "name": "stdout",
     "output_type": "stream",
     "text": [
      "[[-1.0614603  -1.30288833 -2.31716735]\n",
      " [-2.15473332 -0.62947719  0.08329795]]\n",
      "[[-0.28202827]\n",
      " [ 1.48411761]\n",
      " [ 0.61510235]]\n"
     ]
    }
   ],
   "source": [
    "for b, w in zip(xbias, xweights):\n",
    "    print w\n",
    "    #print b"
   ]
  },
  {
   "cell_type": "code",
   "execution_count": 52,
   "metadata": {
    "collapsed": false
   },
   "outputs": [
    {
     "data": {
      "text/plain": [
       "array([[ 0.25852849],\n",
       "       [ 0.22693287],\n",
       "       [ 0.24498042]])"
      ]
     },
     "execution_count": 52,
     "metadata": {},
     "output_type": "execute_result"
    }
   ],
   "source": [
    "def feed(input):\n",
    "    for b, w in zip(xbias, xweights):\n",
    "        input = sigmoid(np.dot(input, w)+b)\n",
    "    return input\n",
    "aray = np.array([1.0, 2.0])\n",
    "feed(aray)\n",
    "                 \n",
    "    "
   ]
  },
  {
   "cell_type": "code",
   "execution_count": 27,
   "metadata": {
    "collapsed": false
   },
   "outputs": [
    {
     "name": "stdout",
     "output_type": "stream",
     "text": [
      "[[-1.32134451]]\n"
     ]
    },
    {
     "data": {
      "text/plain": [
       "array([[ 0.37265651],\n",
       "       [-1.96103065],\n",
       "       [-0.81276211]])"
      ]
     },
     "execution_count": 27,
     "metadata": {},
     "output_type": "execute_result"
    }
   ],
   "source": [
    "#print w\n",
    "print b\n",
    "np.dot(w,b)"
   ]
  },
  {
   "cell_type": "code",
   "execution_count": 30,
   "metadata": {
    "collapsed": false
   },
   "outputs": [
    {
     "name": "stdout",
     "output_type": "stream",
     "text": [
      "1\n",
      "2\n",
      "3\n"
     ]
    }
   ],
   "source": [
    "for g in (1,2,3):\n",
    "    print g"
   ]
  },
  {
   "cell_type": "code",
   "execution_count": 31,
   "metadata": {
    "collapsed": false
   },
   "outputs": [
    {
     "name": "stdout",
     "output_type": "stream",
     "text": [
      "3\n"
     ]
    }
   ],
   "source": [
    "print g"
   ]
  },
  {
   "cell_type": "code",
   "execution_count": 66,
   "metadata": {
    "collapsed": false
   },
   "outputs": [
    {
     "name": "stdout",
     "output_type": "stream",
     "text": [
      "66 is divisible by 3\n"
     ]
    }
   ],
   "source": [
    "def by_three(n):\n",
    "    if n%3 == 0:\n",
    "        print \"%s is divisible by 3\" % (n)\n",
    "    \n",
    "    else:\n",
    "        print \"nope\"\n",
    "        \n",
    "by_three(66)        \n",
    "    "
   ]
  },
  {
   "cell_type": "code",
   "execution_count": 59,
   "metadata": {
    "collapsed": false
   },
   "outputs": [
    {
     "data": {
      "text/plain": [
       "4"
      ]
     },
     "execution_count": 59,
     "metadata": {},
     "output_type": "execute_result"
    }
   ],
   "source": [
    "12/3"
   ]
  },
  {
   "cell_type": "code",
   "execution_count": 60,
   "metadata": {
    "collapsed": false
   },
   "outputs": [
    {
     "data": {
      "text/plain": [
       "0"
      ]
     },
     "execution_count": 60,
     "metadata": {},
     "output_type": "execute_result"
    }
   ],
   "source": [
    "12%3"
   ]
  },
  {
   "cell_type": "code",
   "execution_count": 61,
   "metadata": {
    "collapsed": false
   },
   "outputs": [
    {
     "data": {
      "text/plain": [
       "1"
      ]
     },
     "execution_count": 61,
     "metadata": {},
     "output_type": "execute_result"
    }
   ],
   "source": [
    "12%11"
   ]
  },
  {
   "cell_type": "code",
   "execution_count": 20,
   "metadata": {
    "collapsed": false
   },
   "outputs": [
    {
     "name": "stdout",
     "output_type": "stream",
     "text": [
      "[[ 1  2  3  4  5  6  7  8  9 10 11 12 13 14 15 16 17 18 19 20]]\n",
      "0\n",
      "1\n",
      "2\n",
      "3\n",
      "4\n",
      "5\n",
      "6\n",
      "7\n",
      "8\n",
      "9\n",
      "10\n",
      "11\n",
      "12\n",
      "13\n",
      "14\n",
      "15\n",
      "16\n",
      "17\n",
      "18\n",
      "19\n"
     ]
    }
   ],
   "source": [
    "some = np.arange(1,21).reshape(1,20)\n",
    "print some\n",
    "for j in range(20):\n",
    "    print j"
   ]
  },
  {
   "cell_type": "code",
   "execution_count": null,
   "metadata": {
    "collapsed": true
   },
   "outputs": [],
   "source": []
  }
 ],
 "metadata": {
  "kernelspec": {
   "display_name": "Python 2",
   "language": "python",
   "name": "python2"
  },
  "language_info": {
   "codemirror_mode": {
    "name": "ipython",
    "version": 2
   },
   "file_extension": ".py",
   "mimetype": "text/x-python",
   "name": "python",
   "nbconvert_exporter": "python",
   "pygments_lexer": "ipython2",
   "version": "2.7.11"
  }
 },
 "nbformat": 4,
 "nbformat_minor": 0
}
